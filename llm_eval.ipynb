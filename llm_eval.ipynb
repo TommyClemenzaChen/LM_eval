{
 "cells": [
  {
   "cell_type": "code",
   "execution_count": 2,
   "id": "fce97452-b09b-4218-aac7-fb2fefaf4cb3",
   "metadata": {},
   "outputs": [
    {
     "name": "stdout",
     "output_type": "stream",
     "text": [
      "Collecting gputil\n",
      "  Using cached GPUtil-1.4.0-py3-none-any.whl\n",
      "Collecting transformers\n",
      "  Using cached transformers-4.42.4-py3-none-any.whl.metadata (43 kB)\n",
      "Collecting datasets\n",
      "  Using cached datasets-2.20.0-py3-none-any.whl.metadata (19 kB)\n",
      "Requirement already satisfied: torch in /opt/conda/lib/python3.11/site-packages (2.3.0+cu121)\n",
      "Collecting accelerate\n",
      "  Using cached accelerate-0.32.1-py3-none-any.whl.metadata (18 kB)\n",
      "Collecting optimum\n",
      "  Using cached optimum-1.21.2-py3-none-any.whl.metadata (19 kB)\n",
      "Requirement already satisfied: filelock in /opt/conda/lib/python3.11/site-packages (from transformers) (3.13.1)\n",
      "Requirement already satisfied: huggingface-hub<1.0,>=0.23.2 in /opt/conda/lib/python3.11/site-packages (from transformers) (0.23.2)\n",
      "Requirement already satisfied: numpy<2.0,>=1.17 in /opt/conda/lib/python3.11/site-packages (from transformers) (1.26.4)\n",
      "Requirement already satisfied: packaging>=20.0 in /opt/conda/lib/python3.11/site-packages (from transformers) (23.2)\n",
      "Requirement already satisfied: pyyaml>=5.1 in /opt/conda/lib/python3.11/site-packages (from transformers) (6.0.1)\n",
      "Requirement already satisfied: regex!=2019.12.17 in /opt/conda/lib/python3.11/site-packages (from transformers) (2024.5.15)\n",
      "Requirement already satisfied: requests in /opt/conda/lib/python3.11/site-packages (from transformers) (2.31.0)\n",
      "Collecting safetensors>=0.4.1 (from transformers)\n",
      "  Using cached safetensors-0.4.3-cp311-cp311-manylinux_2_17_x86_64.manylinux2014_x86_64.whl.metadata (3.8 kB)\n",
      "Requirement already satisfied: tokenizers<0.20,>=0.19 in /opt/conda/lib/python3.11/site-packages (from transformers) (0.19.1)\n",
      "Requirement already satisfied: tqdm>=4.27 in /opt/conda/lib/python3.11/site-packages (from transformers) (4.66.4)\n",
      "Requirement already satisfied: pyarrow>=15.0.0 in /opt/conda/lib/python3.11/site-packages (from datasets) (16.1.0)\n",
      "Requirement already satisfied: pyarrow-hotfix in /opt/conda/lib/python3.11/site-packages (from datasets) (0.6)\n",
      "Requirement already satisfied: dill<0.3.9,>=0.3.0 in /opt/conda/lib/python3.11/site-packages (from datasets) (0.3.8)\n",
      "Requirement already satisfied: pandas in /opt/conda/lib/python3.11/site-packages (from datasets) (2.2.2)\n",
      "Collecting requests (from transformers)\n",
      "  Using cached requests-2.32.3-py3-none-any.whl.metadata (4.6 kB)\n",
      "Collecting xxhash (from datasets)\n",
      "  Using cached xxhash-3.4.1-cp311-cp311-manylinux_2_17_x86_64.manylinux2014_x86_64.whl.metadata (12 kB)\n",
      "Requirement already satisfied: multiprocess in /opt/conda/lib/python3.11/site-packages (from datasets) (0.70.16)\n",
      "Requirement already satisfied: fsspec<=2024.5.0,>=2023.1.0 in /opt/conda/lib/python3.11/site-packages (from fsspec[http]<=2024.5.0,>=2023.1.0->datasets) (2024.5.0)\n",
      "Requirement already satisfied: aiohttp in /opt/conda/lib/python3.11/site-packages (from datasets) (3.9.5)\n",
      "Requirement already satisfied: typing-extensions>=4.8.0 in /opt/conda/lib/python3.11/site-packages (from torch) (4.11.0)\n",
      "Requirement already satisfied: sympy in /opt/conda/lib/python3.11/site-packages (from torch) (1.12)\n",
      "Requirement already satisfied: networkx in /opt/conda/lib/python3.11/site-packages (from torch) (3.3)\n",
      "Requirement already satisfied: jinja2 in /opt/conda/lib/python3.11/site-packages (from torch) (3.1.4)\n",
      "Requirement already satisfied: nvidia-cuda-nvrtc-cu12==12.1.105 in /opt/conda/lib/python3.11/site-packages (from torch) (12.1.105)\n",
      "Requirement already satisfied: nvidia-cuda-runtime-cu12==12.1.105 in /opt/conda/lib/python3.11/site-packages (from torch) (12.1.105)\n",
      "Requirement already satisfied: nvidia-cuda-cupti-cu12==12.1.105 in /opt/conda/lib/python3.11/site-packages (from torch) (12.1.105)\n",
      "Requirement already satisfied: nvidia-cudnn-cu12==8.9.2.26 in /opt/conda/lib/python3.11/site-packages (from torch) (8.9.2.26)\n",
      "Requirement already satisfied: nvidia-cublas-cu12==12.1.3.1 in /opt/conda/lib/python3.11/site-packages (from torch) (12.1.3.1)\n",
      "Requirement already satisfied: nvidia-cufft-cu12==11.0.2.54 in /opt/conda/lib/python3.11/site-packages (from torch) (11.0.2.54)\n",
      "Requirement already satisfied: nvidia-curand-cu12==10.3.2.106 in /opt/conda/lib/python3.11/site-packages (from torch) (10.3.2.106)\n",
      "Requirement already satisfied: nvidia-cusolver-cu12==11.4.5.107 in /opt/conda/lib/python3.11/site-packages (from torch) (11.4.5.107)\n",
      "Requirement already satisfied: nvidia-cusparse-cu12==12.1.0.106 in /opt/conda/lib/python3.11/site-packages (from torch) (12.1.0.106)\n",
      "Requirement already satisfied: nvidia-nccl-cu12==2.20.5 in /opt/conda/lib/python3.11/site-packages (from torch) (2.20.5)\n",
      "Requirement already satisfied: nvidia-nvtx-cu12==12.1.105 in /opt/conda/lib/python3.11/site-packages (from torch) (12.1.105)\n",
      "Requirement already satisfied: triton==2.3.0 in /opt/conda/lib/python3.11/site-packages (from torch) (2.3.0)\n",
      "Requirement already satisfied: nvidia-nvjitlink-cu12 in /opt/conda/lib/python3.11/site-packages (from nvidia-cusolver-cu12==11.4.5.107->torch) (12.3.101)\n",
      "Requirement already satisfied: psutil in /opt/conda/lib/python3.11/site-packages (from accelerate) (5.9.8)\n",
      "Collecting coloredlogs (from optimum)\n",
      "  Using cached coloredlogs-15.0.1-py2.py3-none-any.whl.metadata (12 kB)\n",
      "Requirement already satisfied: aiosignal>=1.1.2 in /opt/conda/lib/python3.11/site-packages (from aiohttp->datasets) (1.3.1)\n",
      "Requirement already satisfied: attrs>=17.3.0 in /opt/conda/lib/python3.11/site-packages (from aiohttp->datasets) (23.2.0)\n",
      "Requirement already satisfied: frozenlist>=1.1.1 in /opt/conda/lib/python3.11/site-packages (from aiohttp->datasets) (1.4.1)\n",
      "Requirement already satisfied: multidict<7.0,>=4.5 in /opt/conda/lib/python3.11/site-packages (from aiohttp->datasets) (6.0.5)\n",
      "Requirement already satisfied: yarl<2.0,>=1.0 in /opt/conda/lib/python3.11/site-packages (from aiohttp->datasets) (1.9.4)\n",
      "Requirement already satisfied: charset-normalizer<4,>=2 in /opt/conda/lib/python3.11/site-packages (from requests->transformers) (3.3.2)\n",
      "Requirement already satisfied: idna<4,>=2.5 in /opt/conda/lib/python3.11/site-packages (from requests->transformers) (3.7)\n",
      "Requirement already satisfied: urllib3<3,>=1.21.1 in /opt/conda/lib/python3.11/site-packages (from requests->transformers) (2.2.1)\n",
      "Requirement already satisfied: certifi>=2017.4.17 in /opt/conda/lib/python3.11/site-packages (from requests->transformers) (2024.2.2)\n",
      "Requirement already satisfied: protobuf in /opt/conda/lib/python3.11/site-packages (from transformers[sentencepiece]<4.43.0,>=4.26.0->optimum) (4.25.3)\n",
      "Requirement already satisfied: sentencepiece!=0.1.92,>=0.1.91 in /opt/conda/lib/python3.11/site-packages (from transformers[sentencepiece]<4.43.0,>=4.26.0->optimum) (0.2.0)\n",
      "Collecting humanfriendly>=9.1 (from coloredlogs->optimum)\n",
      "  Using cached humanfriendly-10.0-py2.py3-none-any.whl.metadata (9.2 kB)\n",
      "Requirement already satisfied: MarkupSafe>=2.0 in /opt/conda/lib/python3.11/site-packages (from jinja2->torch) (2.1.5)\n",
      "Requirement already satisfied: python-dateutil>=2.8.2 in /opt/conda/lib/python3.11/site-packages (from pandas->datasets) (2.9.0)\n",
      "Requirement already satisfied: pytz>=2020.1 in /opt/conda/lib/python3.11/site-packages (from pandas->datasets) (2024.1)\n",
      "Requirement already satisfied: tzdata>=2022.7 in /opt/conda/lib/python3.11/site-packages (from pandas->datasets) (2024.1)\n",
      "Requirement already satisfied: mpmath>=0.19 in /opt/conda/lib/python3.11/site-packages (from sympy->torch) (1.3.0)\n",
      "Requirement already satisfied: six>=1.5 in /opt/conda/lib/python3.11/site-packages (from python-dateutil>=2.8.2->pandas->datasets) (1.16.0)\n",
      "Using cached transformers-4.42.4-py3-none-any.whl (9.3 MB)\n",
      "Using cached datasets-2.20.0-py3-none-any.whl (547 kB)\n",
      "Using cached accelerate-0.32.1-py3-none-any.whl (314 kB)\n",
      "Using cached optimum-1.21.2-py3-none-any.whl (424 kB)\n",
      "Using cached requests-2.32.3-py3-none-any.whl (64 kB)\n",
      "Using cached safetensors-0.4.3-cp311-cp311-manylinux_2_17_x86_64.manylinux2014_x86_64.whl (1.2 MB)\n",
      "Using cached coloredlogs-15.0.1-py2.py3-none-any.whl (46 kB)\n",
      "Using cached xxhash-3.4.1-cp311-cp311-manylinux_2_17_x86_64.manylinux2014_x86_64.whl (194 kB)\n",
      "Using cached humanfriendly-10.0-py2.py3-none-any.whl (86 kB)\n",
      "Installing collected packages: gputil, xxhash, safetensors, requests, humanfriendly, coloredlogs, transformers, datasets, accelerate, optimum\n",
      "  Attempting uninstall: requests\n",
      "    Found existing installation: requests 2.31.0\n",
      "    Uninstalling requests-2.31.0:\n",
      "      Successfully uninstalled requests-2.31.0\n",
      "\u001b[31mERROR: pip's dependency resolver does not currently take into account all the packages that are installed. This behaviour is the source of the following dependency conflicts.\n",
      "arxiv 2.1.0 requires requests==2.31.0, but you have requests 2.32.3 which is incompatible.\u001b[0m\u001b[31m\n",
      "\u001b[0mSuccessfully installed accelerate-0.32.1 coloredlogs-15.0.1 datasets-2.20.0 gputil-1.4.0 humanfriendly-10.0 optimum-1.21.2 requests-2.32.3 safetensors-0.4.3 transformers-4.42.4 xxhash-3.4.1\n"
     ]
    }
   ],
   "source": [
    "!pip install gputil transformers datasets torch datasets accelerate optimum\n"
   ]
  },
  {
   "cell_type": "code",
   "execution_count": 3,
   "id": "5d4f0733-8c22-43ed-a51b-00a75265bd1b",
   "metadata": {},
   "outputs": [
    {
     "name": "stdout",
     "output_type": "stream",
     "text": [
      "GPU ID: 0\n",
      "Name: NVIDIA L40\n",
      "Total Memory: 46068.0MB\n",
      "Free Memory: 45373.0MB\n",
      "Used Memory: 1.0MB\n",
      "GPU Load: 0.0%\n"
     ]
    }
   ],
   "source": [
    "import GPUtil\n",
    "\n",
    "gpus = GPUtil.getGPUs()\n",
    "for gpu in gpus:\n",
    "    print(f\"GPU ID: {gpu.id}\")\n",
    "    print(f\"Name: {gpu.name}\")\n",
    "    print(f\"Total Memory: {gpu.memoryTotal}MB\")\n",
    "    print(f\"Free Memory: {gpu.memoryFree}MB\")\n",
    "    print(f\"Used Memory: {gpu.memoryUsed}MB\")\n",
    "    print(f\"GPU Load: {gpu.load * 100}%\")\n"
   ]
  },
  {
   "cell_type": "code",
   "execution_count": 25,
   "id": "841f495e-e589-492e-a3af-7112a6801d03",
   "metadata": {},
   "outputs": [],
   "source": [
    "from transformers import AutoTokenizer, AutoModelForCausalLM, pipeline\n",
    "import torch\n",
    "from datasets import load_dataset\n",
    "import pandas as pd\n",
    "\n"
   ]
  },
  {
   "cell_type": "code",
   "execution_count": 3,
   "id": "1a44479c-1127-4aa9-a084-8445946f296d",
   "metadata": {},
   "outputs": [
    {
     "data": {
      "application/vnd.jupyter.widget-view+json": {
       "model_id": "630de960622b4f58bdba670ea6ed59c1",
       "version_major": 2,
       "version_minor": 0
      },
      "text/plain": [
       "VBox(children=(HTML(value='<center> <img\\nsrc=https://huggingface.co/front/assets/huggingface_logo-noborder.sv…"
      ]
     },
     "metadata": {},
     "output_type": "display_data"
    }
   ],
   "source": [
    "from huggingface_hub import notebook_login\n",
    "\n",
    "notebook_login()\n"
   ]
  },
  {
   "cell_type": "code",
   "execution_count": 4,
   "id": "64e226dc-119e-4e72-a359-3c7a97fd0f5d",
   "metadata": {},
   "outputs": [
    {
     "name": "stderr",
     "output_type": "stream",
     "text": [
      "2024-07-14 09:28:12.834277: I tensorflow/core/util/port.cc:113] oneDNN custom operations are on. You may see slightly different numerical results due to floating-point round-off errors from different computation orders. To turn them off, set the environment variable `TF_ENABLE_ONEDNN_OPTS=0`.\n",
      "2024-07-14 09:28:12.880772: I tensorflow/core/platform/cpu_feature_guard.cc:210] This TensorFlow binary is optimized to use available CPU instructions in performance-critical operations.\n",
      "To enable the following instructions: AVX2 AVX512F AVX512_VNNI AVX512_BF16 AVX512_FP16 AVX_VNNI AMX_TILE AMX_INT8 AMX_BF16 FMA, in other operations, rebuild TensorFlow with the appropriate compiler flags.\n",
      "2024-07-14 09:28:13.827756: W tensorflow/compiler/tf2tensorrt/utils/py_utils.cc:38] TF-TRT Warning: Could not find TensorRT\n"
     ]
    },
    {
     "data": {
      "application/vnd.jupyter.widget-view+json": {
       "model_id": "cf7c02db2cf34d12a8cbab2225d5a45c",
       "version_major": 2,
       "version_minor": 0
      },
      "text/plain": [
       "Loading checkpoint shards:   0%|          | 0/4 [00:00<?, ?it/s]"
      ]
     },
     "metadata": {},
     "output_type": "display_data"
    },
    {
     "name": "stderr",
     "output_type": "stream",
     "text": [
      "Special tokens have been added in the vocabulary, make sure the associated word embeddings are fine-tuned or trained.\n"
     ]
    }
   ],
   "source": [
    "model_id = \"meta-llama/Meta-Llama-3-8B-Instruct\"\n",
    "pipe = pipeline(\n",
    "    'text-generation', \n",
    "    model=model_id, \n",
    "    model_kwargs={\n",
    "        \"torch_dtype\": torch.bfloat16,\n",
    "    },\n",
    "    device=\"cuda\",\n",
    ")"
   ]
  },
  {
   "cell_type": "code",
   "execution_count": 3,
   "id": "46a6586a-8abc-425c-87c8-1d2400b65f88",
   "metadata": {},
   "outputs": [],
   "source": [
    "hellaswag_data = load_dataset(\"Rowan/hellaswag\")"
   ]
  },
  {
   "cell_type": "code",
   "execution_count": 4,
   "id": "a5cac116-11ca-4b03-b34a-c501604d5edd",
   "metadata": {},
   "outputs": [
    {
     "data": {
      "text/html": [
       "<div>\n",
       "<style scoped>\n",
       "    .dataframe tbody tr th:only-of-type {\n",
       "        vertical-align: middle;\n",
       "    }\n",
       "\n",
       "    .dataframe tbody tr th {\n",
       "        vertical-align: top;\n",
       "    }\n",
       "\n",
       "    .dataframe thead th {\n",
       "        text-align: right;\n",
       "    }\n",
       "</style>\n",
       "<table border=\"1\" class=\"dataframe\">\n",
       "  <thead>\n",
       "    <tr style=\"text-align: right;\">\n",
       "      <th></th>\n",
       "      <th>activity_label</th>\n",
       "      <th>ctx_a</th>\n",
       "      <th>ctx_b</th>\n",
       "      <th>endings</th>\n",
       "      <th>label</th>\n",
       "    </tr>\n",
       "  </thead>\n",
       "  <tbody>\n",
       "    <tr>\n",
       "      <th>0</th>\n",
       "      <td>Removing ice from car</td>\n",
       "      <td>Then, the man writes over the snow covering th...</td>\n",
       "      <td>then</td>\n",
       "      <td>[, the man adds wax to the windshield and cuts...</td>\n",
       "      <td>3</td>\n",
       "    </tr>\n",
       "    <tr>\n",
       "      <th>1</th>\n",
       "      <td>Baking cookies</td>\n",
       "      <td>A female chef in white uniform shows a stack o...</td>\n",
       "      <td>the pans</td>\n",
       "      <td>[contain egg yolks and baking soda., are then ...</td>\n",
       "      <td>3</td>\n",
       "    </tr>\n",
       "    <tr>\n",
       "      <th>2</th>\n",
       "      <td>Baking cookies</td>\n",
       "      <td>A female chef in white uniform shows a stack o...</td>\n",
       "      <td>a knife</td>\n",
       "      <td>[is seen moving on a board and cutting out its...</td>\n",
       "      <td>3</td>\n",
       "    </tr>\n",
       "    <tr>\n",
       "      <th>3</th>\n",
       "      <td>Baking cookies</td>\n",
       "      <td>A tray of potatoes is loaded into the oven and...</td>\n",
       "      <td>a large tray of meat</td>\n",
       "      <td>[is placed onto a baked potato., , ls, and pic...</td>\n",
       "      <td>3</td>\n",
       "    </tr>\n",
       "    <tr>\n",
       "      <th>4</th>\n",
       "      <td>Getting a haircut</td>\n",
       "      <td>The man in the center is demonstrating a hairs...</td>\n",
       "      <td>the man in the blue shirt</td>\n",
       "      <td>[is standing on the sponge cutting the hair of...</td>\n",
       "      <td>2</td>\n",
       "    </tr>\n",
       "  </tbody>\n",
       "</table>\n",
       "</div>"
      ],
      "text/plain": [
       "          activity_label                                              ctx_a  \\\n",
       "0  Removing ice from car  Then, the man writes over the snow covering th...   \n",
       "1         Baking cookies  A female chef in white uniform shows a stack o...   \n",
       "2         Baking cookies  A female chef in white uniform shows a stack o...   \n",
       "3         Baking cookies  A tray of potatoes is loaded into the oven and...   \n",
       "4      Getting a haircut  The man in the center is demonstrating a hairs...   \n",
       "\n",
       "                       ctx_b  \\\n",
       "0                       then   \n",
       "1                   the pans   \n",
       "2                    a knife   \n",
       "3       a large tray of meat   \n",
       "4  the man in the blue shirt   \n",
       "\n",
       "                                             endings label  \n",
       "0  [, the man adds wax to the windshield and cuts...     3  \n",
       "1  [contain egg yolks and baking soda., are then ...     3  \n",
       "2  [is seen moving on a board and cutting out its...     3  \n",
       "3  [is placed onto a baked potato., , ls, and pic...     3  \n",
       "4  [is standing on the sponge cutting the hair of...     2  "
      ]
     },
     "execution_count": 4,
     "metadata": {},
     "output_type": "execute_result"
    }
   ],
   "source": [
    "hellaswag_df = pd.DataFrame(hellaswag_data[\"train\"])\n",
    "hellaswag_df.drop(columns=['ind', 'ctx', 'source_id','split','split_type'], inplace = True)\n",
    "hellaswag_df.head()\n",
    "\n"
   ]
  },
  {
   "cell_type": "code",
   "execution_count": 105,
   "id": "89eafb8c-6f02-4555-a37b-7bb6f5f0a61b",
   "metadata": {},
   "outputs": [
    {
     "name": "stdout",
     "output_type": "stream",
     "text": [
      "label\n",
      "1    10031\n",
      "3    10021\n",
      "0     9986\n",
      "2     9867\n",
      "Name: count, dtype: int64\n",
      "39905\n"
     ]
    }
   ],
   "source": [
    "print(hellaswag_df['label'].value_counts())\n"
   ]
  },
  {
   "cell_type": "code",
   "execution_count": 107,
   "id": "0811ab21-5d11-4485-8066-e310db91b4cd",
   "metadata": {
    "scrolled": true
   },
   "outputs": [
    {
     "data": {
      "text/html": [
       "<div>\n",
       "<style scoped>\n",
       "    .dataframe tbody tr th:only-of-type {\n",
       "        vertical-align: middle;\n",
       "    }\n",
       "\n",
       "    .dataframe tbody tr th {\n",
       "        vertical-align: top;\n",
       "    }\n",
       "\n",
       "    .dataframe thead th {\n",
       "        text-align: right;\n",
       "    }\n",
       "</style>\n",
       "<table border=\"1\" class=\"dataframe\">\n",
       "  <thead>\n",
       "    <tr style=\"text-align: right;\">\n",
       "      <th></th>\n",
       "      <th>ind</th>\n",
       "      <th>activity_label</th>\n",
       "      <th>ctx_a</th>\n",
       "      <th>ctx_b</th>\n",
       "      <th>ctx</th>\n",
       "      <th>endings</th>\n",
       "      <th>source_id</th>\n",
       "      <th>split</th>\n",
       "      <th>split_type</th>\n",
       "      <th>label</th>\n",
       "    </tr>\n",
       "  </thead>\n",
       "  <tbody>\n",
       "    <tr>\n",
       "      <th>0</th>\n",
       "      <td>14</td>\n",
       "      <td>Wakeboarding</td>\n",
       "      <td>A man is being pulled on a water ski as he flo...</td>\n",
       "      <td>he</td>\n",
       "      <td>A man is being pulled on a water ski as he flo...</td>\n",
       "      <td>[mounts the water ski and tears through the wa...</td>\n",
       "      <td>activitynet~v_-5KAycAQlC4</td>\n",
       "      <td>test</td>\n",
       "      <td>indomain</td>\n",
       "      <td></td>\n",
       "    </tr>\n",
       "    <tr>\n",
       "      <th>1</th>\n",
       "      <td>71</td>\n",
       "      <td>Javelin throw</td>\n",
       "      <td>A huge crowd is in the stands in an arena. A m...</td>\n",
       "      <td>several men</td>\n",
       "      <td>A huge crowd is in the stands in an arena. A m...</td>\n",
       "      <td>[are water boarding in a river., are shown thr...</td>\n",
       "      <td>activitynet~v_-fjUWhSM6Hc</td>\n",
       "      <td>test</td>\n",
       "      <td>indomain</td>\n",
       "      <td></td>\n",
       "    </tr>\n",
       "    <tr>\n",
       "      <th>2</th>\n",
       "      <td>73</td>\n",
       "      <td>Javelin throw</td>\n",
       "      <td>The man that threw the javelin celebrates. Ano...</td>\n",
       "      <td>several men</td>\n",
       "      <td>The man that threw the javelin celebrates. Ano...</td>\n",
       "      <td>[run out to where the javelin lands again., th...</td>\n",
       "      <td>activitynet~v_-fjUWhSM6Hc</td>\n",
       "      <td>test</td>\n",
       "      <td>indomain</td>\n",
       "      <td></td>\n",
       "    </tr>\n",
       "    <tr>\n",
       "      <th>3</th>\n",
       "      <td>76</td>\n",
       "      <td>Javelin throw</td>\n",
       "      <td>The second man to throw the javelin and a man ...</td>\n",
       "      <td>the same men</td>\n",
       "      <td>The second man to throw the javelin and a man ...</td>\n",
       "      <td>[do the same action but in different locations...</td>\n",
       "      <td>activitynet~v_-fjUWhSM6Hc</td>\n",
       "      <td>test</td>\n",
       "      <td>indomain</td>\n",
       "      <td></td>\n",
       "    </tr>\n",
       "    <tr>\n",
       "      <th>4</th>\n",
       "      <td>78</td>\n",
       "      <td>Javelin throw</td>\n",
       "      <td>The same men run to the the javelin's landing ...</td>\n",
       "      <td>again</td>\n",
       "      <td>The same men run to the the javelin's landing ...</td>\n",
       "      <td>[, another man does not throw his javelin., th...</td>\n",
       "      <td>activitynet~v_-fjUWhSM6Hc</td>\n",
       "      <td>test</td>\n",
       "      <td>indomain</td>\n",
       "      <td></td>\n",
       "    </tr>\n",
       "  </tbody>\n",
       "</table>\n",
       "</div>"
      ],
      "text/plain": [
       "   ind activity_label                                              ctx_a  \\\n",
       "0   14   Wakeboarding  A man is being pulled on a water ski as he flo...   \n",
       "1   71  Javelin throw  A huge crowd is in the stands in an arena. A m...   \n",
       "2   73  Javelin throw  The man that threw the javelin celebrates. Ano...   \n",
       "3   76  Javelin throw  The second man to throw the javelin and a man ...   \n",
       "4   78  Javelin throw  The same men run to the the javelin's landing ...   \n",
       "\n",
       "          ctx_b                                                ctx  \\\n",
       "0            he  A man is being pulled on a water ski as he flo...   \n",
       "1   several men  A huge crowd is in the stands in an arena. A m...   \n",
       "2   several men  The man that threw the javelin celebrates. Ano...   \n",
       "3  the same men  The second man to throw the javelin and a man ...   \n",
       "4         again  The same men run to the the javelin's landing ...   \n",
       "\n",
       "                                             endings  \\\n",
       "0  [mounts the water ski and tears through the wa...   \n",
       "1  [are water boarding in a river., are shown thr...   \n",
       "2  [run out to where the javelin lands again., th...   \n",
       "3  [do the same action but in different locations...   \n",
       "4  [, another man does not throw his javelin., th...   \n",
       "\n",
       "                   source_id split split_type label  \n",
       "0  activitynet~v_-5KAycAQlC4  test   indomain        \n",
       "1  activitynet~v_-fjUWhSM6Hc  test   indomain        \n",
       "2  activitynet~v_-fjUWhSM6Hc  test   indomain        \n",
       "3  activitynet~v_-fjUWhSM6Hc  test   indomain        \n",
       "4  activitynet~v_-fjUWhSM6Hc  test   indomain        "
      ]
     },
     "execution_count": 107,
     "metadata": {},
     "output_type": "execute_result"
    }
   ],
   "source": [
    "pd.DataFrame(hellaswag_data['test']).head()"
   ]
  },
  {
   "cell_type": "code",
   "execution_count": 9,
   "id": "b95ef8b6-69f2-433e-9c1b-b533cd1562d0",
   "metadata": {},
   "outputs": [
    {
     "name": "stdout",
     "output_type": "stream",
     "text": [
      "1\n"
     ]
    },
    {
     "name": "stderr",
     "output_type": "stream",
     "text": [
      "You seem to be using the pipelines sequentially on GPU. In order to maximize efficiency please use a dataset\n"
     ]
    },
    {
     "name": "stdout",
     "output_type": "stream",
     "text": [
      "1\n",
      "1\n"
     ]
    }
   ],
   "source": [
    "correct = 0\n",
    "\n",
    "# Batching can improve this\n",
    "for index, row in hellaswag_df.iterrows():\n",
    "\n",
    "    activity = row['activity_label']\n",
    "    sentences = row['ctx_a']\n",
    "    next_sentence_start = row['ctx_b']\n",
    "    endings = row['endings']\n",
    "    label = row['label']\n",
    "\n",
    "    result = mult_choice_response(activity, sentences, next_sentence_start, endings)\n",
    "    # print(result[0], label)\n",
    "    \n",
    "    if result[0] == label:\n",
    "        correct += 1\n",
    "    if index > 0 and index % 1000 == 0:\n",
    "        print(f\"Current accuracy: {correct/(index + 1)}\");\n",
    "\n",
    "    if index == 3:\n",
    "        break\n",
    "\n",
    "\n",
    "    "
   ]
  },
  {
   "cell_type": "code",
   "execution_count": 19,
   "id": "1f5a3517-6b77-4b03-94a2-3b27e79b23c1",
   "metadata": {},
   "outputs": [
    {
     "name": "stdout",
     "output_type": "stream",
     "text": [
      "Final accuracy: 0.0\n"
     ]
    }
   ],
   "source": [
    "print(f\"Final accuracy: {correct/len(hellaswag_df)}\")\n"
   ]
  },
  {
   "cell_type": "code",
   "execution_count": 4,
   "id": "6ac92272-fb6c-4b24-b98c-1ab942aea2ff",
   "metadata": {},
   "outputs": [],
   "source": [
    "# Login using e.g. `huggingface-cli login` to access this dataset\n",
    "df = pd.read_csv(\"hf://datasets/Idavidrein/gpqa/gpqa_main.csv\")"
   ]
  },
  {
   "cell_type": "code",
   "execution_count": 11,
   "id": "1b386952-0a1c-4a43-932b-d53ad6b1e9a6",
   "metadata": {},
   "outputs": [
    {
     "data": {
      "text/html": [
       "<div>\n",
       "<style scoped>\n",
       "    .dataframe tbody tr th:only-of-type {\n",
       "        vertical-align: middle;\n",
       "    }\n",
       "\n",
       "    .dataframe tbody tr th {\n",
       "        vertical-align: top;\n",
       "    }\n",
       "\n",
       "    .dataframe thead th {\n",
       "        text-align: right;\n",
       "    }\n",
       "</style>\n",
       "<table border=\"1\" class=\"dataframe\">\n",
       "  <thead>\n",
       "    <tr style=\"text-align: right;\">\n",
       "      <th></th>\n",
       "      <th>Question</th>\n",
       "      <th>Correct Answer</th>\n",
       "      <th>Incorrect Answer 1</th>\n",
       "      <th>Incorrect Answer 2</th>\n",
       "      <th>Incorrect Answer 3</th>\n",
       "      <th>Subdomain</th>\n",
       "    </tr>\n",
       "  </thead>\n",
       "  <tbody>\n",
       "    <tr>\n",
       "      <th>0</th>\n",
       "      <td>A large gene has dozens of exons, of which the...</td>\n",
       "      <td>R-loops</td>\n",
       "      <td>lariat</td>\n",
       "      <td>polyA tail</td>\n",
       "      <td>antisense</td>\n",
       "      <td>Molecular Biology</td>\n",
       "    </tr>\n",
       "    <tr>\n",
       "      <th>1</th>\n",
       "      <td>Two quantum states with energies E1 and E2 hav...</td>\n",
       "      <td>10^-4 eV</td>\n",
       "      <td>10^-11 eV</td>\n",
       "      <td>10^-8 eV\\n</td>\n",
       "      <td>10^-9 eV</td>\n",
       "      <td>Physics (general)</td>\n",
       "    </tr>\n",
       "    <tr>\n",
       "      <th>2</th>\n",
       "      <td>trans-cinnamaldehyde was treated with methylma...</td>\n",
       "      <td>11</td>\n",
       "      <td>10</td>\n",
       "      <td>12</td>\n",
       "      <td>14</td>\n",
       "      <td>Organic Chemistry</td>\n",
       "    </tr>\n",
       "    <tr>\n",
       "      <th>3</th>\n",
       "      <td>how many of the following compounds exhibit op...</td>\n",
       "      <td>4</td>\n",
       "      <td>3</td>\n",
       "      <td>5</td>\n",
       "      <td>6</td>\n",
       "      <td>Organic Chemistry</td>\n",
       "    </tr>\n",
       "    <tr>\n",
       "      <th>4</th>\n",
       "      <td>A coating is applied to a substrate resulting ...</td>\n",
       "      <td>124°</td>\n",
       "      <td>129°</td>\n",
       "      <td>134°</td>\n",
       "      <td>139°</td>\n",
       "      <td>Chemistry (general)</td>\n",
       "    </tr>\n",
       "  </tbody>\n",
       "</table>\n",
       "</div>"
      ],
      "text/plain": [
       "                                            Question Correct Answer  \\\n",
       "0  A large gene has dozens of exons, of which the...        R-loops   \n",
       "1  Two quantum states with energies E1 and E2 hav...       10^-4 eV   \n",
       "2  trans-cinnamaldehyde was treated with methylma...             11   \n",
       "3  how many of the following compounds exhibit op...              4   \n",
       "4  A coating is applied to a substrate resulting ...           124°   \n",
       "\n",
       "  Incorrect Answer 1 Incorrect Answer 2 Incorrect Answer 3  \\\n",
       "0             lariat         polyA tail          antisense   \n",
       "1          10^-11 eV         10^-8 eV\\n           10^-9 eV   \n",
       "2                 10                 12                 14   \n",
       "3                  3                  5                  6   \n",
       "4               129°               134°               139°   \n",
       "\n",
       "             Subdomain  \n",
       "0    Molecular Biology  \n",
       "1    Physics (general)  \n",
       "2    Organic Chemistry  \n",
       "3    Organic Chemistry  \n",
       "4  Chemistry (general)  "
      ]
     },
     "execution_count": 11,
     "metadata": {},
     "output_type": "execute_result"
    }
   ],
   "source": [
    "gpqa_dataset = df[['Question', 'Correct Answer', 'Incorrect Answer 1', 'Incorrect Answer 2', 'Incorrect Answer 3', 'Subdomain']]\n",
    "gpqa_dataset.head()"
   ]
  },
  {
   "cell_type": "code",
   "execution_count": 15,
   "id": "27df7124-ba2a-46dc-bee7-ecab91caec58",
   "metadata": {},
   "outputs": [],
   "source": [
    "def gpqa_answer(subject, question, options):\n",
    "    \n",
    "    prompt = f\"You are a highly knowledgeable AI assistant capable of solving complex scienc and math problems. \\\n",
    "    Please read each question carefully and pick the best option.\\n \\\n",
    "    In the response, only include the option, don't explain anything \\n \\\n",
    "    \\n\\nSubject: {subject}\\n\\n \\\n",
    "    Question: {question}\\n\\n \\\n",
    "    \"\n",
    "\n",
    "    prompt += \"Options:\\n\"\n",
    "    for i, option in enumerate(options):\n",
    "\n",
    "        option_string = f\"{option}\\n\"\n",
    "        prompt += option_string\n",
    "\n",
    "    # print(prompt) \n",
    "    return invoke_response(prompt)"
   ]
  },
  {
   "cell_type": "code",
   "execution_count": 27,
   "id": "c746a8a9-59b4-4930-ac0e-509e84558efe",
   "metadata": {},
   "outputs": [
    {
     "name": "stdout",
     "output_type": "stream",
     "text": [
      "76\n",
      "Accuracy0.16964285714285715\n"
     ]
    }
   ],
   "source": []
  },
  {
   "cell_type": "code",
   "execution_count": 5,
   "id": "b4589d6c-24e8-40cf-a057-68a224697ba7",
   "metadata": {},
   "outputs": [],
   "source": [
    "def invoke_batch_response(prompts):\n",
    "\n",
    "    # Create messages for each prompt\n",
    "    batch_messages = [\n",
    "        [{\"role\": \"system\", \"content\": prompt}] for prompt in prompts\n",
    "    ]\n",
    "    \n",
    "    terminators = [\n",
    "        pipe.tokenizer.eos_token_id,\n",
    "        pipe.tokenizer.convert_tokens_to_ids(\"<|eot_id|>\")\n",
    "    ]\n",
    "    pipe.model.generation_config.pad_token_id = pipe.tokenizer.pad_token_id\n",
    "    \n",
    "    # Process the batch of messages\n",
    "    outputs = pipe(\n",
    "        batch_messages,\n",
    "        max_new_tokens=256,\n",
    "        eos_token_id=terminators,\n",
    "        do_sample=True,\n",
    "        temperature=0.6,\n",
    "        top_p=0.9,\n",
    "        pad_token_id=pipe.tokenizer.eos_token_id\n",
    "    )\n",
    "    \n",
    "    # Extract and return responses\n",
    "    responses = [output[0][\"generated_text\"][-1][\"content\"] for output in outputs]\n",
    "    return responses"
   ]
  },
  {
   "cell_type": "code",
   "execution_count": 50,
   "id": "2d5aaa5f-011a-47d8-a795-0702649775eb",
   "metadata": {},
   "outputs": [],
   "source": [
    "def five_shot(dataset, column_name, column_value):\n",
    "    # Gives 5 examples of the task given the column name and column\n",
    "    # Dataset should be a pandas dataframe\n",
    "    \n",
    "    alphabet = [chr(i + 65) for i in range(26)]\n",
    "    example_df = dataset[dataset[column_name] == column_value]\n",
    "\n",
    "    questions = example_df['question']\n",
    "    options_list = example_df['options']\n",
    "    answers = example_df['answer']\n",
    "\n",
    "    five_shot_result = \"Here are some examples of the task you will be doing.\\n\"\n",
    "    for index, (question, options, answer) in enumerate(zip(questions, options_list, answers)):\n",
    "        \n",
    "        five_shot_result += f\"\\nExample: {index + 1}\\n\"\n",
    "        five_shot_result += f\"Question: {question}\\n\"\n",
    "        five_shot_result += \"Options:\\n\"\n",
    "        for i, option in enumerate(options):\n",
    "    \n",
    "            currLetter = alphabet[i]\n",
    "            option_string = f\"{currLetter}. {option}\\n\"\n",
    "            five_shot_result += option_string\n",
    "        five_shot_result += f\"Answer: {answer}\\n\"\n",
    "        \n",
    "            \n",
    "    return five_shot_result"
   ]
  },
  {
   "cell_type": "code",
   "execution_count": 57,
   "id": "d83aa485-ee3c-459f-8364-e829cca8cf69",
   "metadata": {},
   "outputs": [],
   "source": [
    "def MMLU_Pro_answer(batch):\n",
    "\n",
    "    questions = batch['question']\n",
    "    options_list = batch['options']\n",
    "    subjects = batch['category']\n",
    "\n",
    "    prompts = []\n",
    "    # Creating an array that maps 0 to 'A', 1 to 'B', and so on\n",
    "    alphabet = [chr(i + 65) for i in range(26)]\n",
    "\n",
    "    for subject, question, options in zip(subjects, questions, options_list):\n",
    "    \n",
    "        prompt = f\"\"\"You are a highly knowledgeable expert and are tasked to answer a multiple choice question\\n\"\"\"\n",
    "        prompt += five_shot(validation_dataset.to_pandas(), 'category', subject)\n",
    "        prompt += \"\\n\\n\"\n",
    "        prompt += f\"Please answer the following question by providing ONLY the letter corresponding to the correct answer. Do not include the answer itself\\n\"\n",
    "        prompt += f\"Question: {question}?\\n\"\n",
    "        prompt += \"Options:\\n\"\n",
    "        for i, option in enumerate(options):\n",
    "    \n",
    "            currLetter = alphabet[i]\n",
    "            option_string = f\"{currLetter}. {option}\\n\"\n",
    "            prompt += option_string\n",
    "            \n",
    "        prompts.append(prompt)\n",
    "    # print(prompts[0])\n",
    "    answers = invoke_batch_response(prompts)\n",
    "    return {\"pred_answer\": answers}"
   ]
  },
  {
   "cell_type": "code",
   "execution_count": 8,
   "id": "80dd24b3-1b7e-44ca-9632-1c2aec9feee3",
   "metadata": {},
   "outputs": [],
   "source": [
    "ds = load_dataset(\"TIGER-Lab/MMLU-Pro\")"
   ]
  },
  {
   "cell_type": "code",
   "execution_count": 10,
   "id": "f4be1b96-9ba8-4836-9281-3534d065021d",
   "metadata": {},
   "outputs": [],
   "source": [
    "testing_dataset = ds[\"test\"]\n",
    "validation_dataset = ds['validation']\n",
    "\n"
   ]
  },
  {
   "cell_type": "code",
   "execution_count": 56,
   "id": "5666aa89-da8c-4612-86a9-cf962d61355c",
   "metadata": {},
   "outputs": [
    {
     "name": "stdout",
     "output_type": "stream",
     "text": [
      "You are a highly knowledgeable expert and are tasked to answer a multiple choice question\n",
      "Here are some examples of the task you will be doing.\n",
      "\n",
      "Example: 1\n",
      "Question: The symmetric group $S_n$ has $\n",
      "actorial{n}$ elements, hence it is not true that $S_{10}$ has 10 elements.\n",
      "Find the characteristic of the ring 2Z.\n",
      "Options:\n",
      "A. 0\n",
      "B. 30\n",
      "C. 3\n",
      "D. 10\n",
      "E. 12\n",
      "F. 50\n",
      "G. 2\n",
      "H. 100\n",
      "I. 20\n",
      "J. 5\n",
      "Answer: A\n",
      "\n",
      "Example: 2\n",
      "Question: Let V be the set of all real polynomials p(x). Let transformations T, S be defined on V by T:p(x) -> xp(x) and S:p(x) -> p'(x) = d/dx p(x), and interpret (ST)(p(x)) as S(T(p(x))). Which of the following is true?\n",
      "Options:\n",
      "A. ST + TS is the identity map of V onto itself.\n",
      "B. TS = 0\n",
      "C. ST = 1\n",
      "D. ST - TS = 0\n",
      "E. ST = T\n",
      "F. ST = 0\n",
      "G. ST = TS\n",
      "H. ST - TS is the identity map of V onto itself.\n",
      "I. TS = T\n",
      "J. ST = S\n",
      "Answer: H\n",
      "\n",
      "Example: 3\n",
      "Question: Let A be the set of all ordered pairs of integers (m, n) such that 7m + 12n = 22. What is the greatest negative number in the set B = {m + n : (m, n) \\in A}?\n",
      "Options:\n",
      "A. -5\n",
      "B. 0\n",
      "C. -3\n",
      "D. -7\n",
      "E. -4\n",
      "F. -6\n",
      "G. -1\n",
      "H. -2\n",
      "I. -9\n",
      "J. N/A\n",
      "Answer: E\n",
      "\n",
      "Example: 4\n",
      "Question: A tank initially contains a salt solution of 3 grams of salt dissolved in 100 liters of water. A salt solution containing 0.02 grams of salt per liter of water is sprayed into the tank at a rate of 4 liters per minute. The sprayed solution is continually mixed with the salt solution in the tank, and the mixture flows out of the tank at a rate of 4 liters per minute. If the mixing is instantaneous, how many grams of salt are in the tank after 100 minutes have elapsed?\n",
      "Options:\n",
      "A. 3 + e^-2\n",
      "B. 2 - e^-4\n",
      "C. 2 - e^-2\n",
      "D. 3 + e^-4\n",
      "E. 2 + e^-3\n",
      "F. 2 - e^-3\n",
      "G. 3 - e^-2\n",
      "H. 2 + e^-2\n",
      "I. 2 + e^-4\n",
      "J. 2\n",
      "Answer: I\n",
      "\n",
      "Example: 5\n",
      "Question: A total of 30 players will play basketball at a park. There will be exactly 5 players on each team. Which statement correctly explains how to find the number of teams needed?\n",
      "Options:\n",
      "A. Multiply 5 by 5 to find 25 teams.\n",
      "B. Divide 30 by 5 to find 6 teams.\n",
      "C. Add 5 to 30 to find 35 teams.\n",
      "D. Subtract 30 from 5 to find -25 teams.\n",
      "E. Divide 5 by 30 to find 0.1667 teams.\n",
      "F. Add 5 to 30 then divide by 2 to find 17.5 teams.\n",
      "G. N/A\n",
      "H. N/A\n",
      "I. N/A\n",
      "J. N/A\n",
      "Answer: B\n",
      "\n",
      "\n",
      "Please answer the following question by providing ONLY the letter corresponding to the correct answer. Do not include the answer itself\n",
      "Question: The symmetric group $S_n$ has $\n",
      "actorial{n}$ elements, hence it is not true that $S_{10}$ has 10 elements.\n",
      "Find the characteristic of the ring 2Z.?\n",
      "Options:\n",
      "A. 0\n",
      "B. 30\n",
      "C. 3\n",
      "D. 10\n",
      "E. 12\n",
      "F. 50\n",
      "G. 2\n",
      "H. 100\n",
      "I. 20\n",
      "J. 5\n",
      "\n"
     ]
    },
    {
     "data": {
      "text/plain": [
       "{'pred_answer': ['A']}"
      ]
     },
     "execution_count": 56,
     "metadata": {},
     "output_type": "execute_result"
    }
   ],
   "source": [
    "test_df = validation_dataset.to_pandas()\n",
    "\n",
    "# Extract a single example and create a batch\n",
    "single_example = {\n",
    "    'question': [test_df.loc[0, 'question']],\n",
    "    'options': [test_df.loc[0, 'options']],\n",
    "    'category': [test_df.loc[0, 'category']]\n",
    "}\n",
    "\n",
    "MMLU_Pro_answer(single_example)"
   ]
  },
  {
   "cell_type": "code",
   "execution_count": 8,
   "id": "2eb66b33-0523-4388-a70d-d36a9804f3f2",
   "metadata": {},
   "outputs": [],
   "source": [
    "validation_dataset = validation_dataset.remove_columns([\"cot_content\", \"src\", \"answer_index\", \"question_id\"])\n",
    "testing_dataset = testing_dataset.remove_columns([\"cot_content\", \"src\", \"answer_index\", \"question_id\"])"
   ]
  },
  {
   "cell_type": "code",
   "execution_count": 14,
   "id": "80b16265-a5ed-45d1-951e-5022bd057745",
   "metadata": {},
   "outputs": [
    {
     "data": {
      "text/plain": [
       "Dataset({\n",
       "    features: ['question', 'options', 'answer', 'category'],\n",
       "    num_rows: 70\n",
       "})"
      ]
     },
     "execution_count": 14,
     "metadata": {},
     "output_type": "execute_result"
    }
   ],
   "source": [
    "validation_dataset"
   ]
  },
  {
   "cell_type": "code",
   "execution_count": 65,
   "id": "39df6d01-6fd8-46bc-a965-027b28f6b870",
   "metadata": {},
   "outputs": [
    {
     "data": {
      "application/vnd.jupyter.widget-view+json": {
       "model_id": "2d66f593f08146e18f69d5a008ac489a",
       "version_major": 2,
       "version_minor": 0
      },
      "text/plain": [
       "Map:   0%|          | 0/12032 [00:00<?, ? examples/s]"
      ]
     },
     "metadata": {},
     "output_type": "display_data"
    },
    {
     "name": "stdout",
     "output_type": "stream",
     "text": [
      "CPU times: user 32min 10s, sys: 2min 21s, total: 34min 32s\n",
      "Wall time: 35min 23s\n"
     ]
    }
   ],
   "source": [
    "%%time\n",
    "\n",
    "result_dataset = testing_dataset.map(MMLU_Pro_answer, batched=True, batch_size=64)\n",
    "# result_dataset = validation_dataset.map(MMLU_Pro_answer, batched=True, batch_size=128)\n",
    "result_df = result_dataset.to_pandas()\n"
   ]
  },
  {
   "cell_type": "code",
   "execution_count": 66,
   "id": "51db83f6-20ef-491e-afd8-d3362acade2b",
   "metadata": {},
   "outputs": [
    {
     "data": {
      "text/html": [
       "<div>\n",
       "<style scoped>\n",
       "    .dataframe tbody tr th:only-of-type {\n",
       "        vertical-align: middle;\n",
       "    }\n",
       "\n",
       "    .dataframe tbody tr th {\n",
       "        vertical-align: top;\n",
       "    }\n",
       "\n",
       "    .dataframe thead th {\n",
       "        text-align: right;\n",
       "    }\n",
       "</style>\n",
       "<table border=\"1\" class=\"dataframe\">\n",
       "  <thead>\n",
       "    <tr style=\"text-align: right;\">\n",
       "      <th></th>\n",
       "      <th>question_id</th>\n",
       "      <th>question</th>\n",
       "      <th>options</th>\n",
       "      <th>answer</th>\n",
       "      <th>answer_index</th>\n",
       "      <th>cot_content</th>\n",
       "      <th>category</th>\n",
       "      <th>src</th>\n",
       "      <th>pred_answer</th>\n",
       "    </tr>\n",
       "  </thead>\n",
       "  <tbody>\n",
       "    <tr>\n",
       "      <th>0</th>\n",
       "      <td>70</td>\n",
       "      <td>Typical advertising regulatory bodies suggest,...</td>\n",
       "      <td>[Safe practices, Fear, Jealousy, Trivial, Unsa...</td>\n",
       "      <td>I</td>\n",
       "      <td>8</td>\n",
       "      <td></td>\n",
       "      <td>business</td>\n",
       "      <td>ori_mmlu-business_ethics</td>\n",
       "      <td>D</td>\n",
       "    </tr>\n",
       "    <tr>\n",
       "      <th>1</th>\n",
       "      <td>71</td>\n",
       "      <td>Managers are entrusted to run the company in t...</td>\n",
       "      <td>[Shareholders, Diligence, Self-interest, Share...</td>\n",
       "      <td>F</td>\n",
       "      <td>5</td>\n",
       "      <td></td>\n",
       "      <td>business</td>\n",
       "      <td>ori_mmlu-business_ethics</td>\n",
       "      <td>B</td>\n",
       "    </tr>\n",
       "    <tr>\n",
       "      <th>2</th>\n",
       "      <td>72</td>\n",
       "      <td>There are two main issues associated with ____...</td>\n",
       "      <td>[Down, Autonomy, Remuneration, Benefit, Down, ...</td>\n",
       "      <td>J</td>\n",
       "      <td>9</td>\n",
       "      <td></td>\n",
       "      <td>business</td>\n",
       "      <td>ori_mmlu-business_ethics</td>\n",
       "      <td>F</td>\n",
       "    </tr>\n",
       "    <tr>\n",
       "      <th>3</th>\n",
       "      <td>73</td>\n",
       "      <td>_______ locate morality beyond the sphere of r...</td>\n",
       "      <td>[Ethical egoism, Ethics of duty, Postmodern et...</td>\n",
       "      <td>C</td>\n",
       "      <td>2</td>\n",
       "      <td></td>\n",
       "      <td>business</td>\n",
       "      <td>ori_mmlu-business_ethics</td>\n",
       "      <td>H</td>\n",
       "    </tr>\n",
       "    <tr>\n",
       "      <th>4</th>\n",
       "      <td>74</td>\n",
       "      <td>Some of key differences between Islamic finan...</td>\n",
       "      <td>[Interest, Certain, Assured, Both tangible and...</td>\n",
       "      <td>G</td>\n",
       "      <td>6</td>\n",
       "      <td></td>\n",
       "      <td>business</td>\n",
       "      <td>ori_mmlu-business_ethics</td>\n",
       "      <td>F</td>\n",
       "    </tr>\n",
       "  </tbody>\n",
       "</table>\n",
       "</div>"
      ],
      "text/plain": [
       "   question_id                                           question  \\\n",
       "0           70  Typical advertising regulatory bodies suggest,...   \n",
       "1           71  Managers are entrusted to run the company in t...   \n",
       "2           72  There are two main issues associated with ____...   \n",
       "3           73  _______ locate morality beyond the sphere of r...   \n",
       "4           74   Some of key differences between Islamic finan...   \n",
       "\n",
       "                                             options answer  answer_index  \\\n",
       "0  [Safe practices, Fear, Jealousy, Trivial, Unsa...      I             8   \n",
       "1  [Shareholders, Diligence, Self-interest, Share...      F             5   \n",
       "2  [Down, Autonomy, Remuneration, Benefit, Down, ...      J             9   \n",
       "3  [Ethical egoism, Ethics of duty, Postmodern et...      C             2   \n",
       "4  [Interest, Certain, Assured, Both tangible and...      G             6   \n",
       "\n",
       "  cot_content  category                       src pred_answer  \n",
       "0              business  ori_mmlu-business_ethics           D  \n",
       "1              business  ori_mmlu-business_ethics           B  \n",
       "2              business  ori_mmlu-business_ethics           F  \n",
       "3              business  ori_mmlu-business_ethics           H  \n",
       "4              business  ori_mmlu-business_ethics           F  "
      ]
     },
     "execution_count": 66,
     "metadata": {},
     "output_type": "execute_result"
    }
   ],
   "source": [
    "result_df.head()"
   ]
  },
  {
   "cell_type": "code",
   "execution_count": 67,
   "id": "37ebf6d9-e6ad-4f92-9646-a0deebb9db96",
   "metadata": {},
   "outputs": [],
   "source": [
    "comparison = result_df['answer'] == result_df['pred_answer']"
   ]
  },
  {
   "cell_type": "code",
   "execution_count": 68,
   "id": "74c1b84f-b26b-41e8-ba93-50434e7c19f6",
   "metadata": {},
   "outputs": [
    {
     "data": {
      "text/plain": [
       "False    8088\n",
       "True     3944\n",
       "Name: count, dtype: int64"
      ]
     },
     "execution_count": 68,
     "metadata": {},
     "output_type": "execute_result"
    }
   ],
   "source": [
    "comparison.value_counts()"
   ]
  },
  {
   "cell_type": "code",
   "execution_count": 69,
   "id": "1bc4e003-c171-4250-bff9-b1266fe7a5f7",
   "metadata": {},
   "outputs": [
    {
     "name": "stdout",
     "output_type": "stream",
     "text": [
      "Accuracy: 32.78%\n"
     ]
    }
   ],
   "source": [
    "accuracy = comparison.mean()\n",
    "\n",
    "# Print the accuracy\n",
    "print(f\"Accuracy: {accuracy * 100:.2f}%\")"
   ]
  },
  {
   "cell_type": "code",
   "execution_count": null,
   "id": "7dcce641-1240-4371-8dab-7a1d0c7a889b",
   "metadata": {},
   "outputs": [],
   "source": [
    "def gpqa_answer(subject, question, options):\n",
    "\n",
    "    subject = \n",
    "    question = \n",
    "    \n",
    "    prompt = f\"You are a highly knowledgeable AI assistant capable of solving complex scienc and math problems. \\\n",
    "    Please read each question carefully and pick the best option.\\n \\\n",
    "    In the response, only include the option, don't explain anything \\n \\\n",
    "    \\n\\nSubject: {subject}\\n\\n \\\n",
    "    Question: {question}\\n\\n \\\n",
    "    \"\n",
    "\n",
    "    prompt += \"Options:\\n\"\n",
    "    for i, option in enumerate(options):\n",
    "\n",
    "        option_string = f\"{option}\\n\"\n",
    "        prompt += option_string\n",
    "\n",
    "    # print(prompt) \n",
    "    return invoke_response(prompt)"
   ]
  }
 ],
 "metadata": {
  "kernelspec": {
   "display_name": "Python 3 (ipykernel)",
   "language": "python",
   "name": "python3"
  },
  "language_info": {
   "codemirror_mode": {
    "name": "ipython",
    "version": 3
   },
   "file_extension": ".py",
   "mimetype": "text/x-python",
   "name": "python",
   "nbconvert_exporter": "python",
   "pygments_lexer": "ipython3",
   "version": "3.11.9"
  }
 },
 "nbformat": 4,
 "nbformat_minor": 5
}
